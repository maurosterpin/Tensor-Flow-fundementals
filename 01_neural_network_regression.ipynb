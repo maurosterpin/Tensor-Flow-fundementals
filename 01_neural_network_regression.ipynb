{
  "nbformat": 4,
  "nbformat_minor": 0,
  "metadata": {
    "colab": {
      "name": "01_neural_network_regression.ipynb",
      "provenance": [],
      "collapsed_sections": [],
      "authorship_tag": "ABX9TyPCrIkJYhk5ajxgdjIuiMU1",
      "include_colab_link": true
    },
    "kernelspec": {
      "name": "python3",
      "display_name": "Python 3"
    },
    "language_info": {
      "name": "python"
    }
  },
  "cells": [
    {
      "cell_type": "markdown",
      "metadata": {
        "id": "view-in-github",
        "colab_type": "text"
      },
      "source": [
        "<a href=\"https://colab.research.google.com/github/maurosterpin/TensorFlow/blob/main/01_neural_network_regression.ipynb\" target=\"_parent\"><img src=\"https://colab.research.google.com/assets/colab-badge.svg\" alt=\"Open In Colab\"/></a>"
      ]
    },
    {
      "cell_type": "markdown",
      "source": [
        "# Introduction to Regression with Neural Networks in TensorFlow\n",
        "\n",
        "There are many definitions for a regression problem but in our case, we're going to simplify it: predicting a numerical variable based on some other combination of variables, even shorter... predicting a number."
      ],
      "metadata": {
        "id": "34u8ZOYOL500"
      }
    },
    {
      "cell_type": "code",
      "source": [
        "# Import TensorFlow\n",
        "import tensorflow as tf\n",
        "print(tf.__version__)"
      ],
      "metadata": {
        "colab": {
          "base_uri": "https://localhost:8080/"
        },
        "id": "hwZLI-yGMjaQ",
        "outputId": "3e3973e8-a48c-4912-dfc9-7caac5427c05"
      },
      "execution_count": 1,
      "outputs": [
        {
          "output_type": "stream",
          "name": "stdout",
          "text": [
            "2.8.0\n"
          ]
        }
      ]
    },
    {
      "cell_type": "markdown",
      "source": [
        "## Creating data to view and fit"
      ],
      "metadata": {
        "id": "HUWl19NRMvJa"
      }
    },
    {
      "cell_type": "code",
      "source": [
        "import numpy as np\n",
        "import matplotlib.pyplot as plt\n",
        "\n",
        "# Create features\n",
        "X = np.array([-7.0, -4.0, -1.0, 2.0, 5.0, 8.0, 11.0, 14.0])\n",
        "\n",
        "# Create labels\n",
        "Y = np.array([3.0, 6.0, 9.0, 12.0, 15.0, 18.0, 21.0, 24.0])\n",
        "\n",
        "# Visualize it\n",
        "plt.scatter(X, Y);"
      ],
      "metadata": {
        "colab": {
          "base_uri": "https://localhost:8080/",
          "height": 269
        },
        "id": "tspcZZw4M41C",
        "outputId": "50f5bdea-2c91-46f3-e22c-ba1f4afe06ae"
      },
      "execution_count": null,
      "outputs": [
        {
          "output_type": "display_data",
          "data": {
            "text/plain": [
              "<Figure size 432x288 with 1 Axes>"
            ],
            "image/png": "[encoded data removed]"
          },
          "metadata": {
            "needs_background": "light"
          }
        }
      ]
    },
    {
      "cell_type": "code",
      "source": [
        "Y == X + 10"
      ],
      "metadata": {
        "colab": {
          "base_uri": "https://localhost:8080/"
        },
        "id": "H0D3NG0yNpwp",
        "outputId": "3b22376f-6554-4bbc-fe05-f86d7d0e197a"
      },
      "execution_count": null,
      "outputs": [
        {
          "output_type": "execute_result",
          "data": {
            "text/plain": [
              "array([ True,  True,  True,  True,  True,  True,  True,  True])"
            ]
          },
          "metadata": {},
          "execution_count": 8
        }
      ]
    },
    {
      "cell_type": "markdown",
      "source": [
        "## Input and output shapes"
      ],
      "metadata": {
        "id": "QCdpMjpTNzXJ"
      }
    },
    {
      "cell_type": "code",
      "source": [
        "# Create a demo tensor for our housing price prediction problem\n",
        "house_info = tf.constant([\"bedroom\", \"bathroom\", \"garage\"])\n",
        "house_price = tf.constant([939700])\n",
        "house_info, house_price"
      ],
      "metadata": {
        "colab": {
          "base_uri": "https://localhost:8080/"
        },
        "id": "1mcUp7ZUOERL",
        "outputId": "2acac7f8-3cda-4c3a-f686-08bdbac775cd"
      },
      "execution_count": null,
      "outputs": [
        {
          "output_type": "execute_result",
          "data": {
            "text/plain": [
              "(<tf.Tensor: shape=(3,), dtype=string, numpy=array([b'bedroom', b'bathroom', b'garage'], dtype=object)>,\n",
              " <tf.Tensor: shape=(1,), dtype=int32, numpy=array([939700], dtype=int32)>)"
            ]
          },
          "metadata": {},
          "execution_count": 9
        }
      ]
    },
    {
      "cell_type": "code",
      "source": [
        "input_shape = X.shape\n",
        "output_shape = Y.shape\n",
        "input_shape, output_shape"
      ],
      "metadata": {
        "colab": {
          "base_uri": "https://localhost:8080/"
        },
        "id": "KCfKx4NpOZPA",
        "outputId": "02331247-5461-4084-acf3-db53e1587460"
      },
      "execution_count": null,
      "outputs": [
        {
          "output_type": "execute_result",
          "data": {
            "text/plain": [
              "((8,), (8,))"
            ]
          },
          "metadata": {},
          "execution_count": 10
        }
      ]
    },
    {
      "cell_type": "code",
      "source": [
        "X[0].ndim"
      ],
      "metadata": {
        "colab": {
          "base_uri": "https://localhost:8080/"
        },
        "id": "45X_ztwbPC6I",
        "outputId": "be3f4af4-38bb-432d-e548-eed340cbada4"
      },
      "execution_count": null,
      "outputs": [
        {
          "output_type": "execute_result",
          "data": {
            "text/plain": [
              "0"
            ]
          },
          "metadata": {},
          "execution_count": 11
        }
      ]
    },
    {
      "cell_type": "code",
      "source": [
        "X[0], Y[0]"
      ],
      "metadata": {
        "colab": {
          "base_uri": "https://localhost:8080/"
        },
        "id": "rldNNSQ_PEyR",
        "outputId": "b6e91c63-bfe5-463b-ff8b-3a705a3656f3"
      },
      "execution_count": null,
      "outputs": [
        {
          "output_type": "execute_result",
          "data": {
            "text/plain": [
              "(-7.0, 3.0)"
            ]
          },
          "metadata": {},
          "execution_count": 12
        }
      ]
    },
    {
      "cell_type": "code",
      "source": [
        "# Turn our NumPy arrays into tensors with dtype float32\n",
        "X = tf.cast(tf.constant(X), dtype=tf.float32)\n",
        "Y = tf.cast(tf.constant(Y), dtype=tf.float32)\n",
        "X, Y"
      ],
      "metadata": {
        "colab": {
          "base_uri": "https://localhost:8080/"
        },
        "id": "tSlmSdAhS5mk",
        "outputId": "9eb24158-a6f9-4668-a029-94d926263ca6"
      },
      "execution_count": null,
      "outputs": [
        {
          "output_type": "execute_result",
          "data": {
            "text/plain": [
              "(<tf.Tensor: shape=(8,), dtype=float32, numpy=array([-7., -4., -1.,  2.,  5.,  8., 11., 14.], dtype=float32)>,\n",
              " <tf.Tensor: shape=(8,), dtype=float32, numpy=array([ 3.,  6.,  9., 12., 15., 18., 21., 24.], dtype=float32)>)"
            ]
          },
          "metadata": {},
          "execution_count": 17
        }
      ]
    },
    {
      "cell_type": "code",
      "source": [
        "input_shape = X[0].shape\n",
        "output_shape = Y[0].shape\n",
        "input_shape, output_shape"
      ],
      "metadata": {
        "colab": {
          "base_uri": "https://localhost:8080/"
        },
        "id": "Hxt8xL67TDqU",
        "outputId": "f220bf95-5cde-4afb-8735-2f70e3b957e6"
      },
      "execution_count": null,
      "outputs": [
        {
          "output_type": "execute_result",
          "data": {
            "text/plain": [
              "(TensorShape([]), TensorShape([]))"
            ]
          },
          "metadata": {},
          "execution_count": 14
        }
      ]
    },
    {
      "cell_type": "code",
      "source": [
        "plt.scatter(X, Y)"
      ],
      "metadata": {
        "colab": {
          "base_uri": "https://localhost:8080/",
          "height": 286
        },
        "id": "JXiTaktcTOlV",
        "outputId": "681487a4-5e2f-4787-f18f-1190a180d200"
      },
      "execution_count": null,
      "outputs": [
        {
          "output_type": "execute_result",
          "data": {
            "text/plain": [
              "<matplotlib.collections.PathCollection at 0x7fa4221a1cd0>"
            ]
          },
          "metadata": {},
          "execution_count": 15
        },
        {
          "output_type": "display_data",
          "data": {
            "text/plain": [
              "<Figure size 432x288 with 1 Axes>"
            ],
            "image/png": "[encoded data removed]"
          },
          "metadata": {
            "needs_background": "light"
          }
        }
      ]
    },
    {
      "cell_type": "markdown",
      "source": [
        "## Steps in modelling with TensorFlow\n",
        "\n",
        "1. **Creating a model** - define the input and output layers, as well as the hidden laters of a deep learning model.\n",
        "2. **Compiling a model** - define the loss function (in other words, the function which tells our model how wrong it is) and the optimizer (tells our model how to improve the patterns its learning) and evaluation metrics (what we can use to interpret the performance of our model).\n",
        "3. **Fitting a model** - letting the model try to find patters between X & Y (features and labels)."
      ],
      "metadata": {
        "id": "zeNsfyTPTR4l"
      }
    },
    {
      "cell_type": "code",
      "source": [
        "# Set random seed\n",
        "tf.random.set_seed(42)\n",
        "\n",
        "# 1. Create a model using the Sequential API\n",
        "model = tf.keras.Sequential([\n",
        "  tf.keras.layers.Dense(1)\n",
        "])\n",
        "\n",
        "# 2. Compile the model\n",
        "model.compile(loss=tf.keras.losses.mae, # mae is short for mean absolute error\n",
        "              optimizer=tf.keras.optimizers.SGD(), # sgd is short for stochastic gradient descent\n",
        "              metrics=[\"mae\"])\n",
        "\n",
        "# 3. Fit the model\n",
        "model.fit(tf.expand_dims(X, axis=1), Y, epochs=5)"
      ],
      "metadata": {
        "colab": {
          "base_uri": "https://localhost:8080/"
        },
        "id": "9iSV89_Ndm-U",
        "outputId": "266ed85e-76d2-4c66-cc65-e705bcae06c8"
      },
      "execution_count": null,
      "outputs": [
        {
          "output_type": "stream",
          "name": "stdout",
          "text": [
            "Epoch 1/5\n",
            "1/1 [==============================] - 1s 511ms/step - loss: 11.5048 - mae: 11.5048\n",
            "Epoch 2/5\n",
            "1/1 [==============================] - 0s 6ms/step - loss: 11.3723 - mae: 11.3723\n",
            "Epoch 3/5\n",
            "1/1 [==============================] - 0s 12ms/step - loss: 11.2398 - mae: 11.2398\n",
            "Epoch 4/5\n",
            "1/1 [==============================] - 0s 17ms/step - loss: 11.1073 - mae: 11.1073\n",
            "Epoch 5/5\n",
            "1/1 [==============================] - 0s 17ms/step - loss: 10.9748 - mae: 10.9748\n"
          ]
        },
        {
          "output_type": "execute_result",
          "data": {
            "text/plain": [
              "<keras.callbacks.History at 0x7fa421323d10>"
            ]
          },
          "metadata": {},
          "execution_count": 31
        }
      ]
    },
    {
      "cell_type": "code",
      "source": [
        "# Check out X and Y\n",
        "X, Y"
      ],
      "metadata": {
        "colab": {
          "base_uri": "https://localhost:8080/"
        },
        "id": "eja8kYa_hml6",
        "outputId": "53c310a7-3aa3-407d-a34e-bdac30d0ba60"
      },
      "execution_count": null,
      "outputs": [
        {
          "output_type": "execute_result",
          "data": {
            "text/plain": [
              "(<tf.Tensor: shape=(8,), dtype=float32, numpy=array([-7., -4., -1.,  2.,  5.,  8., 11., 14.], dtype=float32)>,\n",
              " <tf.Tensor: shape=(8,), dtype=float32, numpy=array([ 3.,  6.,  9., 12., 15., 18., 21., 24.], dtype=float32)>)"
            ]
          },
          "metadata": {},
          "execution_count": 29
        }
      ]
    },
    {
      "cell_type": "code",
      "source": [
        "# Try and make a prediction using our model\n",
        "y_pred = model.predict([17.0])\n",
        "y_pred"
      ],
      "metadata": {
        "colab": {
          "base_uri": "https://localhost:8080/"
        },
        "id": "GWM3VMSNhr9j",
        "outputId": "5bc8949e-0782-4878-886b-21e3bd71dce4"
      },
      "execution_count": null,
      "outputs": [
        {
          "output_type": "execute_result",
          "data": {
            "text/plain": [
              "array([[12.716021]], dtype=float32)"
            ]
          },
          "metadata": {},
          "execution_count": 32
        }
      ]
    },
    {
      "cell_type": "code",
      "source": [
        "y_pred + 11"
      ],
      "metadata": {
        "colab": {
          "base_uri": "https://localhost:8080/"
        },
        "id": "suZYJ31DiHPA",
        "outputId": "b2a762a3-816d-4353-c4d4-7f6aa6696625"
      },
      "execution_count": null,
      "outputs": [
        {
          "output_type": "execute_result",
          "data": {
            "text/plain": [
              "array([[23.71602]], dtype=float32)"
            ]
          },
          "metadata": {},
          "execution_count": 33
        }
      ]
    },
    {
      "cell_type": "markdown",
      "source": [
        "## Improving our model\n",
        "\n",
        "We can improve our model, by altering the steps we took to create a model.\n",
        "\n",
        "1. **Creating a model** - here we might add more layers, increase the number of hidden units (all called neurons) within each of the hidden layers, change the activation function of each layer.\n",
        "2. **Compiling a model** - here we might change the optimization function or perhaps the **learning rate** of the optimization function.\n",
        "3. **Fitting a model** - here we might fit a model for more **epochs** (leave it training for longer) or on more data (give the model more examples to learn from)."
      ],
      "metadata": {
        "id": "lW4a7m6ekESp"
      }
    },
    {
      "cell_type": "code",
      "source": [
        "# Let's rebuild our model\n",
        "\n",
        "# 1. Create the model\n",
        "model = tf.keras.Sequential([\n",
        "  tf.keras.layers.Dense(1)\n",
        "])\n",
        "\n",
        "# 2. Compile the model\n",
        "model.compile(loss=tf.keras.losses.mae,\n",
        "              optimizer=tf.keras.optimizers.SGD(),\n",
        "              metrics=[\"mae\"])\n",
        "\n",
        "# 3. Fit the model\n",
        "model.fit(tf.expand_dims(X, axis=1), Y, epochs=100)"
      ],
      "metadata": {
        "colab": {
          "base_uri": "https://localhost:8080/"
        },
        "id": "UvEPyxhQmEtM",
        "outputId": "9aea15cc-3bf7-4d4a-ad58-5cbdb4fc9eb0"
      },
      "execution_count": null,
      "outputs": [
        {
          "output_type": "stream",
          "name": "stdout",
          "text": [
            "Epoch 1/100\n",
            "1/1 [==============================] - 0s 292ms/step - loss: 14.2813 - mae: 14.2813\n",
            "Epoch 2/100\n",
            "1/1 [==============================] - 0s 11ms/step - loss: 14.1488 - mae: 14.1488\n",
            "Epoch 3/100\n",
            "1/1 [==============================] - 0s 10ms/step - loss: 14.0163 - mae: 14.0163\n",
            "Epoch 4/100\n",
            "1/1 [==============================] - 0s 7ms/step - loss: 13.8838 - mae: 13.8838\n",
            "Epoch 5/100\n",
            "1/1 [==============================] - 0s 8ms/step - loss: 13.7513 - mae: 13.7513\n",
            "Epoch 6/100\n",
            "1/1 [==============================] - 0s 7ms/step - loss: 13.6188 - mae: 13.6188\n",
            "Epoch 7/100\n",
            "1/1 [==============================] - 0s 6ms/step - loss: 13.4863 - mae: 13.4863\n",
            "Epoch 8/100\n",
            "1/1 [==============================] - 0s 7ms/step - loss: 13.3538 - mae: 13.3538\n",
            "Epoch 9/100\n",
            "1/1 [==============================] - 0s 6ms/step - loss: 13.2213 - mae: 13.2213\n",
            "Epoch 10/100\n",
            "1/1 [==============================] - 0s 7ms/step - loss: 13.0888 - mae: 13.0888\n",
            "Epoch 11/100\n",
            "1/1 [==============================] - 0s 8ms/step - loss: 12.9563 - mae: 12.9563\n",
            "Epoch 12/100\n",
            "1/1 [==============================] - 0s 6ms/step - loss: 12.8238 - mae: 12.8238\n",
            "Epoch 13/100\n",
            "1/1 [==============================] - 0s 7ms/step - loss: 12.6913 - mae: 12.6913\n",
            "Epoch 14/100\n",
            "1/1 [==============================] - 0s 6ms/step - loss: 12.5588 - mae: 12.5588\n",
            "Epoch 15/100\n",
            "1/1 [==============================] - 0s 6ms/step - loss: 12.4263 - mae: 12.4263\n",
            "Epoch 16/100\n",
            "1/1 [==============================] - 0s 7ms/step - loss: 12.2938 - mae: 12.2938\n",
            "Epoch 17/100\n",
            "1/1 [==============================] - 0s 7ms/step - loss: 12.1613 - mae: 12.1613\n",
            "Epoch 18/100\n",
            "1/1 [==============================] - 0s 7ms/step - loss: 12.0288 - mae: 12.0288\n",
            "Epoch 19/100\n",
            "1/1 [==============================] - 0s 7ms/step - loss: 11.8963 - mae: 11.8963\n",
            "Epoch 20/100\n",
            "1/1 [==============================] - 0s 7ms/step - loss: 11.7638 - mae: 11.7638\n",
            "Epoch 21/100\n",
            "1/1 [==============================] - 0s 7ms/step - loss: 11.6313 - mae: 11.6313\n",
            "Epoch 22/100\n",
            "1/1 [==============================] - 0s 7ms/step - loss: 11.4988 - mae: 11.4988\n",
            "Epoch 23/100\n",
            "1/1 [==============================] - 0s 8ms/step - loss: 11.3663 - mae: 11.3663\n",
            "Epoch 24/100\n",
            "1/1 [==============================] - 0s 8ms/step - loss: 11.2338 - mae: 11.2338\n",
            "Epoch 25/100\n",
            "1/1 [==============================] - 0s 7ms/step - loss: 11.1013 - mae: 11.1013\n",
            "Epoch 26/100\n",
            "1/1 [==============================] - 0s 8ms/step - loss: 10.9688 - mae: 10.9688\n",
            "Epoch 27/100\n",
            "1/1 [==============================] - 0s 7ms/step - loss: 10.8363 - mae: 10.8363\n",
            "Epoch 28/100\n",
            "1/1 [==============================] - 0s 7ms/step - loss: 10.7038 - mae: 10.7038\n",
            "Epoch 29/100\n",
            "1/1 [==============================] - 0s 7ms/step - loss: 10.5713 - mae: 10.5713\n",
            "Epoch 30/100\n",
            "1/1 [==============================] - 0s 8ms/step - loss: 10.4388 - mae: 10.4388\n",
            "Epoch 31/100\n",
            "1/1 [==============================] - 0s 7ms/step - loss: 10.3063 - mae: 10.3063\n",
            "Epoch 32/100\n",
            "1/1 [==============================] - 0s 7ms/step - loss: 10.1738 - mae: 10.1738\n",
            "Epoch 33/100\n",
            "1/1 [==============================] - 0s 12ms/step - loss: 10.0413 - mae: 10.0413\n",
            "Epoch 34/100\n",
            "1/1 [==============================] - 0s 9ms/step - loss: 9.9088 - mae: 9.9088\n",
            "Epoch 35/100\n",
            "1/1 [==============================] - 0s 5ms/step - loss: 9.7763 - mae: 9.7763\n",
            "Epoch 36/100\n",
            "1/1 [==============================] - 0s 15ms/step - loss: 9.6438 - mae: 9.6438\n",
            "Epoch 37/100\n",
            "1/1 [==============================] - 0s 6ms/step - loss: 9.5113 - mae: 9.5113\n",
            "Epoch 38/100\n",
            "1/1 [==============================] - 0s 6ms/step - loss: 9.3788 - mae: 9.3788\n",
            "Epoch 39/100\n",
            "1/1 [==============================] - 0s 8ms/step - loss: 9.2463 - mae: 9.2463\n",
            "Epoch 40/100\n",
            "1/1 [==============================] - 0s 6ms/step - loss: 9.1138 - mae: 9.1138\n",
            "Epoch 41/100\n",
            "1/1 [==============================] - 0s 7ms/step - loss: 8.9813 - mae: 8.9813\n",
            "Epoch 42/100\n",
            "1/1 [==============================] - 0s 8ms/step - loss: 8.8488 - mae: 8.8488\n",
            "Epoch 43/100\n",
            "1/1 [==============================] - 0s 18ms/step - loss: 8.7163 - mae: 8.7163\n",
            "Epoch 44/100\n",
            "1/1 [==============================] - 0s 9ms/step - loss: 8.5838 - mae: 8.5838\n",
            "Epoch 45/100\n",
            "1/1 [==============================] - 0s 7ms/step - loss: 8.4513 - mae: 8.4513\n",
            "Epoch 46/100\n",
            "1/1 [==============================] - 0s 9ms/step - loss: 8.3188 - mae: 8.3188\n",
            "Epoch 47/100\n",
            "1/1 [==============================] - 0s 8ms/step - loss: 8.1863 - mae: 8.1863\n",
            "Epoch 48/100\n",
            "1/1 [==============================] - 0s 7ms/step - loss: 8.0538 - mae: 8.0538\n",
            "Epoch 49/100\n",
            "1/1 [==============================] - 0s 10ms/step - loss: 7.9213 - mae: 7.9213\n",
            "Epoch 50/100\n",
            "1/1 [==============================] - 0s 7ms/step - loss: 7.7888 - mae: 7.7888\n",
            "Epoch 51/100\n",
            "1/1 [==============================] - 0s 7ms/step - loss: 7.6563 - mae: 7.6563\n",
            "Epoch 52/100\n",
            "1/1 [==============================] - 0s 8ms/step - loss: 7.5238 - mae: 7.5238\n",
            "Epoch 53/100\n",
            "1/1 [==============================] - 0s 8ms/step - loss: 7.3913 - mae: 7.3913\n",
            "Epoch 54/100\n",
            "1/1 [==============================] - 0s 7ms/step - loss: 7.2588 - mae: 7.2588\n",
            "Epoch 55/100\n",
            "1/1 [==============================] - 0s 10ms/step - loss: 7.1264 - mae: 7.1264\n",
            "Epoch 56/100\n",
            "1/1 [==============================] - 0s 9ms/step - loss: 7.0875 - mae: 7.0875\n",
            "Epoch 57/100\n",
            "1/1 [==============================] - 0s 11ms/step - loss: 7.0819 - mae: 7.0819\n",
            "Epoch 58/100\n",
            "1/1 [==============================] - 0s 6ms/step - loss: 7.0763 - mae: 7.0763\n",
            "Epoch 59/100\n",
            "1/1 [==============================] - 0s 15ms/step - loss: 7.0706 - mae: 7.0706\n",
            "Epoch 60/100\n",
            "1/1 [==============================] - 0s 20ms/step - loss: 7.0650 - mae: 7.0650\n",
            "Epoch 61/100\n",
            "1/1 [==============================] - 0s 9ms/step - loss: 7.0594 - mae: 7.0594\n",
            "Epoch 62/100\n",
            "1/1 [==============================] - 0s 13ms/step - loss: 7.0538 - mae: 7.0538\n",
            "Epoch 63/100\n",
            "1/1 [==============================] - 0s 19ms/step - loss: 7.0481 - mae: 7.0481\n",
            "Epoch 64/100\n",
            "1/1 [==============================] - 0s 14ms/step - loss: 7.0425 - mae: 7.0425\n",
            "Epoch 65/100\n",
            "1/1 [==============================] - 0s 8ms/step - loss: 7.0369 - mae: 7.0369\n",
            "Epoch 66/100\n",
            "1/1 [==============================] - 0s 16ms/step - loss: 7.0312 - mae: 7.0312\n",
            "Epoch 67/100\n",
            "1/1 [==============================] - 0s 14ms/step - loss: 7.0256 - mae: 7.0256\n",
            "Epoch 68/100\n",
            "1/1 [==============================] - 0s 6ms/step - loss: 7.0200 - mae: 7.0200\n",
            "Epoch 69/100\n",
            "1/1 [==============================] - 0s 11ms/step - loss: 7.0144 - mae: 7.0144\n",
            "Epoch 70/100\n",
            "1/1 [==============================] - 0s 7ms/step - loss: 7.0087 - mae: 7.0087\n",
            "Epoch 71/100\n",
            "1/1 [==============================] - 0s 7ms/step - loss: 7.0031 - mae: 7.0031\n",
            "Epoch 72/100\n",
            "1/1 [==============================] - 0s 9ms/step - loss: 6.9975 - mae: 6.9975\n",
            "Epoch 73/100\n",
            "1/1 [==============================] - 0s 9ms/step - loss: 6.9919 - mae: 6.9919\n",
            "Epoch 74/100\n",
            "1/1 [==============================] - 0s 11ms/step - loss: 6.9862 - mae: 6.9862\n",
            "Epoch 75/100\n",
            "1/1 [==============================] - 0s 17ms/step - loss: 6.9806 - mae: 6.9806\n",
            "Epoch 76/100\n",
            "1/1 [==============================] - 0s 8ms/step - loss: 6.9750 - mae: 6.9750\n",
            "Epoch 77/100\n",
            "1/1 [==============================] - 0s 8ms/step - loss: 6.9694 - mae: 6.9694\n",
            "Epoch 78/100\n",
            "1/1 [==============================] - 0s 8ms/step - loss: 6.9638 - mae: 6.9638\n",
            "Epoch 79/100\n",
            "1/1 [==============================] - 0s 11ms/step - loss: 6.9581 - mae: 6.9581\n",
            "Epoch 80/100\n",
            "1/1 [==============================] - 0s 8ms/step - loss: 6.9525 - mae: 6.9525\n",
            "Epoch 81/100\n",
            "1/1 [==============================] - 0s 8ms/step - loss: 6.9469 - mae: 6.9469\n",
            "Epoch 82/100\n",
            "1/1 [==============================] - 0s 5ms/step - loss: 6.9412 - mae: 6.9412\n",
            "Epoch 83/100\n",
            "1/1 [==============================] - 0s 5ms/step - loss: 6.9356 - mae: 6.9356\n",
            "Epoch 84/100\n",
            "1/1 [==============================] - 0s 5ms/step - loss: 6.9300 - mae: 6.9300\n",
            "Epoch 85/100\n",
            "1/1 [==============================] - 0s 5ms/step - loss: 6.9244 - mae: 6.9244\n",
            "Epoch 86/100\n",
            "1/1 [==============================] - 0s 5ms/step - loss: 6.9188 - mae: 6.9188\n",
            "Epoch 87/100\n",
            "1/1 [==============================] - 0s 5ms/step - loss: 6.9131 - mae: 6.9131\n",
            "Epoch 88/100\n",
            "1/1 [==============================] - 0s 5ms/step - loss: 6.9075 - mae: 6.9075\n",
            "Epoch 89/100\n",
            "1/1 [==============================] - 0s 6ms/step - loss: 6.9019 - mae: 6.9019\n",
            "Epoch 90/100\n",
            "1/1 [==============================] - 0s 6ms/step - loss: 6.8963 - mae: 6.8963\n",
            "Epoch 91/100\n",
            "1/1 [==============================] - 0s 6ms/step - loss: 6.8906 - mae: 6.8906\n",
            "Epoch 92/100\n",
            "1/1 [==============================] - 0s 6ms/step - loss: 6.8850 - mae: 6.8850\n",
            "Epoch 93/100\n",
            "1/1 [==============================] - 0s 6ms/step - loss: 6.8794 - mae: 6.8794\n",
            "Epoch 94/100\n",
            "1/1 [==============================] - 0s 6ms/step - loss: 6.8738 - mae: 6.8738\n",
            "Epoch 95/100\n",
            "1/1 [==============================] - 0s 6ms/step - loss: 6.8681 - mae: 6.8681\n",
            "Epoch 96/100\n",
            "1/1 [==============================] - 0s 6ms/step - loss: 6.8625 - mae: 6.8625\n",
            "Epoch 97/100\n",
            "1/1 [==============================] - 0s 6ms/step - loss: 6.8569 - mae: 6.8569\n",
            "Epoch 98/100\n",
            "1/1 [==============================] - 0s 6ms/step - loss: 6.8513 - mae: 6.8513\n",
            "Epoch 99/100\n",
            "1/1 [==============================] - 0s 5ms/step - loss: 6.8456 - mae: 6.8456\n",
            "Epoch 100/100\n",
            "1/1 [==============================] - 0s 5ms/step - loss: 6.8400 - mae: 6.8400\n"
          ]
        },
        {
          "output_type": "execute_result",
          "data": {
            "text/plain": [
              "<keras.callbacks.History at 0x7fa420befd10>"
            ]
          },
          "metadata": {},
          "execution_count": 43
        }
      ]
    },
    {
      "cell_type": "code",
      "source": [
        "# Reming ourselves of the data\n",
        "X, Y"
      ],
      "metadata": {
        "colab": {
          "base_uri": "https://localhost:8080/"
        },
        "id": "_6kMVI3qm--k",
        "outputId": "9ecb4c10-509f-432b-e072-db7070ce343f"
      },
      "execution_count": null,
      "outputs": [
        {
          "output_type": "execute_result",
          "data": {
            "text/plain": [
              "(<tf.Tensor: shape=(8,), dtype=float32, numpy=array([-7., -4., -1.,  2.,  5.,  8., 11., 14.], dtype=float32)>,\n",
              " <tf.Tensor: shape=(8,), dtype=float32, numpy=array([ 3.,  6.,  9., 12., 15., 18., 21., 24.], dtype=float32)>)"
            ]
          },
          "metadata": {},
          "execution_count": 35
        }
      ]
    },
    {
      "cell_type": "code",
      "source": [
        "# Let's see if our model's prediction has improved\n",
        "model.predict([17.0])"
      ],
      "metadata": {
        "colab": {
          "base_uri": "https://localhost:8080/"
        },
        "id": "EFKC3XLqnDym",
        "outputId": "ee462189-1246-426b-aa43-ffbf51c578e8"
      },
      "execution_count": null,
      "outputs": [
        {
          "output_type": "execute_result",
          "data": {
            "text/plain": [
              "array([[29.817371]], dtype=float32)"
            ]
          },
          "metadata": {},
          "execution_count": 44
        }
      ]
    },
    {
      "cell_type": "code",
      "source": [
        "# Let's see if we can improve our model more\n",
        "\n",
        "# 1. Create the model (this time with an extra hidden layer with 100 hidden units)\n",
        "model = tf.keras.Sequential([\n",
        "  tf.keras.layers.Dense(50, activation = None),\n",
        "  tf.keras.layers.Dense(1)\n",
        "])\n",
        "\n",
        "# 2. Compile the model\n",
        "model.compile(loss=tf.keras.losses.mae,\n",
        "              optimizer=tf.keras.optimizers.Adam(lr=0.01),\n",
        "              metrics=[\"mae\"])\n",
        "\n",
        "# 3. Fit the model\n",
        "model.fit(tf.expand_dims(X, axis=1), Y, epochs = 100)"
      ],
      "metadata": {
        "colab": {
          "base_uri": "https://localhost:8080/"
        },
        "id": "cdi9K6zQofME",
        "outputId": "cce0344e-a33a-473c-ead3-1d0a63194e75"
      },
      "execution_count": null,
      "outputs": [
        {
          "output_type": "stream",
          "name": "stdout",
          "text": [
            "Epoch 1/100\n"
          ]
        },
        {
          "output_type": "stream",
          "name": "stderr",
          "text": [
            "/usr/local/lib/python3.7/dist-packages/keras/optimizer_v2/adam.py:105: UserWarning: The `lr` argument is deprecated, use `learning_rate` instead.\n",
            "  super(Adam, self).__init__(name, **kwargs)\n"
          ]
        },
        {
          "output_type": "stream",
          "name": "stdout",
          "text": [
            "1/1 [==============================] - 0s 355ms/step - loss: 14.2190 - mae: 14.2190\n",
            "Epoch 2/100\n",
            "1/1 [==============================] - 0s 8ms/step - loss: 13.5222 - mae: 13.5222\n",
            "Epoch 3/100\n",
            "1/1 [==============================] - 0s 7ms/step - loss: 12.8277 - mae: 12.8277\n",
            "Epoch 4/100\n",
            "1/1 [==============================] - 0s 9ms/step - loss: 12.1351 - mae: 12.1351\n",
            "Epoch 5/100\n",
            "1/1 [==============================] - 0s 11ms/step - loss: 11.4431 - mae: 11.4431\n",
            "Epoch 6/100\n",
            "1/1 [==============================] - 0s 7ms/step - loss: 10.7496 - mae: 10.7496\n",
            "Epoch 7/100\n",
            "1/1 [==============================] - 0s 14ms/step - loss: 10.0519 - mae: 10.0519\n",
            "Epoch 8/100\n",
            "1/1 [==============================] - 0s 9ms/step - loss: 9.3466 - mae: 9.3466\n",
            "Epoch 9/100\n",
            "1/1 [==============================] - 0s 7ms/step - loss: 8.6305 - mae: 8.6305\n",
            "Epoch 10/100\n",
            "1/1 [==============================] - 0s 7ms/step - loss: 7.9001 - mae: 7.9001\n",
            "Epoch 11/100\n",
            "1/1 [==============================] - 0s 6ms/step - loss: 7.1520 - mae: 7.1520\n",
            "Epoch 12/100\n",
            "1/1 [==============================] - 0s 6ms/step - loss: 6.7056 - mae: 6.7056\n",
            "Epoch 13/100\n",
            "1/1 [==============================] - 0s 6ms/step - loss: 6.8974 - mae: 6.8974\n",
            "Epoch 14/100\n",
            "1/1 [==============================] - 0s 6ms/step - loss: 7.1929 - mae: 7.1929\n",
            "Epoch 15/100\n",
            "1/1 [==============================] - 0s 8ms/step - loss: 7.4650 - mae: 7.4650\n",
            "Epoch 16/100\n",
            "1/1 [==============================] - 0s 6ms/step - loss: 7.5928 - mae: 7.5928\n",
            "Epoch 17/100\n",
            "1/1 [==============================] - 0s 7ms/step - loss: 7.5230 - mae: 7.5230\n",
            "Epoch 18/100\n",
            "1/1 [==============================] - 0s 7ms/step - loss: 7.3026 - mae: 7.3026\n",
            "Epoch 19/100\n",
            "1/1 [==============================] - 0s 7ms/step - loss: 6.9837 - mae: 6.9837\n",
            "Epoch 20/100\n",
            "1/1 [==============================] - 0s 7ms/step - loss: 6.7448 - mae: 6.7448\n",
            "Epoch 21/100\n",
            "1/1 [==============================] - 0s 7ms/step - loss: 6.4880 - mae: 6.4880\n",
            "Epoch 22/100\n",
            "1/1 [==============================] - 0s 8ms/step - loss: 6.2173 - mae: 6.2173\n",
            "Epoch 23/100\n",
            "1/1 [==============================] - 0s 6ms/step - loss: 6.0636 - mae: 6.0636\n",
            "Epoch 24/100\n",
            "1/1 [==============================] - 0s 6ms/step - loss: 6.0210 - mae: 6.0210\n",
            "Epoch 25/100\n",
            "1/1 [==============================] - 0s 8ms/step - loss: 6.0911 - mae: 6.0911\n",
            "Epoch 26/100\n",
            "1/1 [==============================] - 0s 5ms/step - loss: 6.1629 - mae: 6.1629\n",
            "Epoch 27/100\n",
            "1/1 [==============================] - 0s 6ms/step - loss: 6.1349 - mae: 6.1349\n",
            "Epoch 28/100\n",
            "1/1 [==============================] - 0s 6ms/step - loss: 6.0196 - mae: 6.0196\n",
            "Epoch 29/100\n",
            "1/1 [==============================] - 0s 7ms/step - loss: 5.8261 - mae: 5.8261\n",
            "Epoch 30/100\n",
            "1/1 [==============================] - 0s 6ms/step - loss: 5.5859 - mae: 5.5859\n",
            "Epoch 31/100\n",
            "1/1 [==============================] - 0s 6ms/step - loss: 5.4871 - mae: 5.4871\n",
            "Epoch 32/100\n",
            "1/1 [==============================] - 0s 6ms/step - loss: 5.3856 - mae: 5.3856\n",
            "Epoch 33/100\n",
            "1/1 [==============================] - 0s 7ms/step - loss: 5.2977 - mae: 5.2977\n",
            "Epoch 34/100\n",
            "1/1 [==============================] - 0s 5ms/step - loss: 5.2779 - mae: 5.2779\n",
            "Epoch 35/100\n",
            "1/1 [==============================] - 0s 6ms/step - loss: 5.2172 - mae: 5.2172\n",
            "Epoch 36/100\n",
            "1/1 [==============================] - 0s 6ms/step - loss: 5.1187 - mae: 5.1187\n",
            "Epoch 37/100\n",
            "1/1 [==============================] - 0s 8ms/step - loss: 4.9860 - mae: 4.9860\n",
            "Epoch 38/100\n",
            "1/1 [==============================] - 0s 23ms/step - loss: 4.8269 - mae: 4.8269\n",
            "Epoch 39/100\n",
            "1/1 [==============================] - 0s 10ms/step - loss: 4.7377 - mae: 4.7377\n",
            "Epoch 40/100\n",
            "1/1 [==============================] - 0s 13ms/step - loss: 4.6423 - mae: 4.6423\n",
            "Epoch 41/100\n",
            "1/1 [==============================] - 0s 9ms/step - loss: 4.5406 - mae: 4.5406\n",
            "Epoch 42/100\n",
            "1/1 [==============================] - 0s 8ms/step - loss: 4.4325 - mae: 4.4325\n",
            "Epoch 43/100\n",
            "1/1 [==============================] - 0s 8ms/step - loss: 4.3178 - mae: 4.3178\n",
            "Epoch 44/100\n",
            "1/1 [==============================] - 0s 7ms/step - loss: 4.1964 - mae: 4.1964\n",
            "Epoch 45/100\n",
            "1/1 [==============================] - 0s 11ms/step - loss: 4.0680 - mae: 4.0680\n",
            "Epoch 46/100\n",
            "1/1 [==============================] - 0s 8ms/step - loss: 3.9325 - mae: 3.9325\n",
            "Epoch 47/100\n",
            "1/1 [==============================] - 0s 9ms/step - loss: 3.7897 - mae: 3.7897\n",
            "Epoch 48/100\n",
            "1/1 [==============================] - 0s 9ms/step - loss: 3.6392 - mae: 3.6392\n",
            "Epoch 49/100\n",
            "1/1 [==============================] - 0s 8ms/step - loss: 3.4809 - mae: 3.4809\n",
            "Epoch 50/100\n",
            "1/1 [==============================] - 0s 8ms/step - loss: 3.3144 - mae: 3.3144\n",
            "Epoch 51/100\n",
            "1/1 [==============================] - 0s 9ms/step - loss: 3.1728 - mae: 3.1728\n",
            "Epoch 52/100\n",
            "1/1 [==============================] - 0s 15ms/step - loss: 2.9969 - mae: 2.9969\n",
            "Epoch 53/100\n",
            "1/1 [==============================] - 0s 7ms/step - loss: 2.7997 - mae: 2.7997\n",
            "Epoch 54/100\n",
            "1/1 [==============================] - 0s 10ms/step - loss: 2.6203 - mae: 2.6203\n",
            "Epoch 55/100\n",
            "1/1 [==============================] - 0s 20ms/step - loss: 2.4299 - mae: 2.4299\n",
            "Epoch 56/100\n",
            "1/1 [==============================] - 0s 7ms/step - loss: 2.2284 - mae: 2.2284\n",
            "Epoch 57/100\n",
            "1/1 [==============================] - 0s 9ms/step - loss: 2.0155 - mae: 2.0155\n",
            "Epoch 58/100\n",
            "1/1 [==============================] - 0s 8ms/step - loss: 1.7988 - mae: 1.7988\n",
            "Epoch 59/100\n",
            "1/1 [==============================] - 0s 7ms/step - loss: 1.5428 - mae: 1.5428\n",
            "Epoch 60/100\n",
            "1/1 [==============================] - 0s 13ms/step - loss: 1.4096 - mae: 1.4096\n",
            "Epoch 61/100\n",
            "1/1 [==============================] - 0s 8ms/step - loss: 1.2272 - mae: 1.2272\n",
            "Epoch 62/100\n",
            "1/1 [==============================] - 0s 6ms/step - loss: 0.8590 - mae: 0.8590\n",
            "Epoch 63/100\n",
            "1/1 [==============================] - 0s 9ms/step - loss: 0.6155 - mae: 0.6155\n",
            "Epoch 64/100\n",
            "1/1 [==============================] - 0s 6ms/step - loss: 0.3959 - mae: 0.3959\n",
            "Epoch 65/100\n",
            "1/1 [==============================] - 0s 6ms/step - loss: 0.0218 - mae: 0.0218\n",
            "Epoch 66/100\n",
            "1/1 [==============================] - 0s 11ms/step - loss: 0.4711 - mae: 0.4711\n",
            "Epoch 67/100\n",
            "1/1 [==============================] - 0s 7ms/step - loss: 0.6543 - mae: 0.6543\n",
            "Epoch 68/100\n",
            "1/1 [==============================] - 0s 6ms/step - loss: 0.5963 - mae: 0.5963\n",
            "Epoch 69/100\n",
            "1/1 [==============================] - 0s 11ms/step - loss: 0.7228 - mae: 0.7228\n",
            "Epoch 70/100\n",
            "1/1 [==============================] - 0s 6ms/step - loss: 0.8335 - mae: 0.8335\n",
            "Epoch 71/100\n",
            "1/1 [==============================] - 0s 6ms/step - loss: 0.6917 - mae: 0.6917\n",
            "Epoch 72/100\n",
            "1/1 [==============================] - 0s 10ms/step - loss: 0.6132 - mae: 0.6132\n",
            "Epoch 73/100\n",
            "1/1 [==============================] - 0s 6ms/step - loss: 0.6307 - mae: 0.6307\n",
            "Epoch 74/100\n",
            "1/1 [==============================] - 0s 6ms/step - loss: 0.4528 - mae: 0.4528\n",
            "Epoch 75/100\n",
            "1/1 [==============================] - 0s 5ms/step - loss: 0.3386 - mae: 0.3386\n",
            "Epoch 76/100\n",
            "1/1 [==============================] - 0s 11ms/step - loss: 0.2970 - mae: 0.2970\n",
            "Epoch 77/100\n",
            "1/1 [==============================] - 0s 9ms/step - loss: 0.0411 - mae: 0.0411\n",
            "Epoch 78/100\n",
            "1/1 [==============================] - 0s 6ms/step - loss: 0.1313 - mae: 0.1313\n",
            "Epoch 79/100\n",
            "1/1 [==============================] - 0s 9ms/step - loss: 0.2561 - mae: 0.2561\n",
            "Epoch 80/100\n",
            "1/1 [==============================] - 0s 5ms/step - loss: 0.2130 - mae: 0.2130\n",
            "Epoch 81/100\n",
            "1/1 [==============================] - 0s 10ms/step - loss: 0.2437 - mae: 0.2437\n",
            "Epoch 82/100\n",
            "1/1 [==============================] - 0s 6ms/step - loss: 0.1688 - mae: 0.1688\n",
            "Epoch 83/100\n",
            "1/1 [==============================] - 0s 6ms/step - loss: 0.1495 - mae: 0.1495\n",
            "Epoch 84/100\n",
            "1/1 [==============================] - 0s 5ms/step - loss: 0.0528 - mae: 0.0528\n",
            "Epoch 85/100\n",
            "1/1 [==============================] - 0s 10ms/step - loss: 0.1045 - mae: 0.1045\n",
            "Epoch 86/100\n",
            "1/1 [==============================] - 0s 6ms/step - loss: 0.1800 - mae: 0.1800\n",
            "Epoch 87/100\n",
            "1/1 [==============================] - 0s 6ms/step - loss: 0.1774 - mae: 0.1774\n",
            "Epoch 88/100\n",
            "1/1 [==============================] - 0s 10ms/step - loss: 0.2042 - mae: 0.2042\n",
            "Epoch 89/100\n",
            "1/1 [==============================] - 0s 17ms/step - loss: 0.1517 - mae: 0.1517\n",
            "Epoch 90/100\n",
            "1/1 [==============================] - 0s 11ms/step - loss: 0.1144 - mae: 0.1144\n",
            "Epoch 91/100\n",
            "1/1 [==============================] - 0s 11ms/step - loss: 0.0645 - mae: 0.0645\n",
            "Epoch 92/100\n",
            "1/1 [==============================] - 0s 11ms/step - loss: 0.1452 - mae: 0.1452\n",
            "Epoch 93/100\n",
            "1/1 [==============================] - 0s 9ms/step - loss: 0.1613 - mae: 0.1613\n",
            "Epoch 94/100\n",
            "1/1 [==============================] - 0s 12ms/step - loss: 0.1584 - mae: 0.1584\n",
            "Epoch 95/100\n",
            "1/1 [==============================] - 0s 6ms/step - loss: 0.0845 - mae: 0.0845\n",
            "Epoch 96/100\n",
            "1/1 [==============================] - 0s 10ms/step - loss: 0.2478 - mae: 0.2478\n",
            "Epoch 97/100\n",
            "1/1 [==============================] - 0s 6ms/step - loss: 0.1990 - mae: 0.1990\n",
            "Epoch 98/100\n",
            "1/1 [==============================] - 0s 6ms/step - loss: 0.1410 - mae: 0.1410\n",
            "Epoch 99/100\n",
            "1/1 [==============================] - 0s 7ms/step - loss: 0.1533 - mae: 0.1533\n",
            "Epoch 100/100\n",
            "1/1 [==============================] - 0s 8ms/step - loss: 0.1460 - mae: 0.1460\n"
          ]
        },
        {
          "output_type": "execute_result",
          "data": {
            "text/plain": [
              "<keras.callbacks.History at 0x7fa41fdbcbd0>"
            ]
          },
          "metadata": {},
          "execution_count": 50
        }
      ]
    },
    {
      "cell_type": "code",
      "source": [
        "# Let's remind ourselves of the data\n",
        "X, Y"
      ],
      "metadata": {
        "colab": {
          "base_uri": "https://localhost:8080/"
        },
        "id": "QAU939gQ4roy",
        "outputId": "daed723a-c891-4676-f93c-295e9f1142fb"
      },
      "execution_count": null,
      "outputs": [
        {
          "output_type": "execute_result",
          "data": {
            "text/plain": [
              "(<tf.Tensor: shape=(8,), dtype=float32, numpy=array([-7., -4., -1.,  2.,  5.,  8., 11., 14.], dtype=float32)>,\n",
              " <tf.Tensor: shape=(8,), dtype=float32, numpy=array([ 3.,  6.,  9., 12., 15., 18., 21., 24.], dtype=float32)>)"
            ]
          },
          "metadata": {},
          "execution_count": 48
        }
      ]
    },
    {
      "cell_type": "code",
      "source": [
        "# Let's try to make a prediction\n",
        "model.predict([17.0])"
      ],
      "metadata": {
        "colab": {
          "base_uri": "https://localhost:8080/"
        },
        "id": "zlWX_pad4wVB",
        "outputId": "2d0e15aa-82ed-41af-ca21-2e99755cbb19"
      },
      "execution_count": null,
      "outputs": [
        {
          "output_type": "execute_result",
          "data": {
            "text/plain": [
              "array([[26.675226]], dtype=float32)"
            ]
          },
          "metadata": {},
          "execution_count": 51
        }
      ]
    },
    {
      "cell_type": "markdown",
      "source": [
        "## Evaluating a model\n",
        "\n",
        "In practice, a typical workflow you'll go through when building neural network is:\n",
        "\n",
        "```\n",
        "Build a model -> fit it -> evaluate it -> tweak a model -> fit it -> evaluate it -> tweak a model -> fit it -> evaluate it...\n",
        "```"
      ],
      "metadata": {
        "id": "w57lCmMW9AAD"
      }
    },
    {
      "cell_type": "markdown",
      "source": [
        "When it comes to evaluation... there are 3 words you should memorize:\n",
        "\n",
        "\"Visualize, visualize, visualize\"\n",
        "\n",
        "It's a good idea to visualize:\n",
        "* The data - what data are we working with? What does it look like?\n",
        "* The model itself - what does our model look like?\n",
        "* The training of a model - how does a model perform while it learns?\n",
        "* The predictions of the model - how do the predictions of a model line up against the ground truth (the original labels)?"
      ],
      "metadata": {
        "id": "a-TGDznU9qJ2"
      }
    },
    {
      "cell_type": "code",
      "source": [
        "# Make a bigget dataset\n",
        "X = tf.range(-100, 100, 4)\n",
        "X"
      ],
      "metadata": {
        "colab": {
          "base_uri": "https://localhost:8080/"
        },
        "id": "QEebYv3O-T_w",
        "outputId": "b6b29d9e-2259-4353-c78a-3bc5eb24cb88"
      },
      "execution_count": 3,
      "outputs": [
        {
          "output_type": "execute_result",
          "data": {
            "text/plain": [
              "<tf.Tensor: shape=(50,), dtype=int32, numpy=\n",
              "array([-100,  -96,  -92,  -88,  -84,  -80,  -76,  -72,  -68,  -64,  -60,\n",
              "        -56,  -52,  -48,  -44,  -40,  -36,  -32,  -28,  -24,  -20,  -16,\n",
              "        -12,   -8,   -4,    0,    4,    8,   12,   16,   20,   24,   28,\n",
              "         32,   36,   40,   44,   48,   52,   56,   60,   64,   68,   72,\n",
              "         76,   80,   84,   88,   92,   96], dtype=int32)>"
            ]
          },
          "metadata": {},
          "execution_count": 3
        }
      ]
    },
    {
      "cell_type": "code",
      "source": [
        "# Make labels for the dataset\n",
        "Y = X + 10\n",
        "Y"
      ],
      "metadata": {
        "colab": {
          "base_uri": "https://localhost:8080/"
        },
        "id": "E29_wNE--gD8",
        "outputId": "8b51c576-1341-44b9-a2a3-4dddb7393a59"
      },
      "execution_count": 4,
      "outputs": [
        {
          "output_type": "execute_result",
          "data": {
            "text/plain": [
              "<tf.Tensor: shape=(50,), dtype=int32, numpy=\n",
              "array([-90, -86, -82, -78, -74, -70, -66, -62, -58, -54, -50, -46, -42,\n",
              "       -38, -34, -30, -26, -22, -18, -14, -10,  -6,  -2,   2,   6,  10,\n",
              "        14,  18,  22,  26,  30,  34,  38,  42,  46,  50,  54,  58,  62,\n",
              "        66,  70,  74,  78,  82,  86,  90,  94,  98, 102, 106], dtype=int32)>"
            ]
          },
          "metadata": {},
          "execution_count": 4
        }
      ]
    },
    {
      "cell_type": "code",
      "source": [
        "# Visualize the data\n",
        "import matplotlib.pyplot as plt\n",
        "\n",
        "plt.scatter(X, Y)"
      ],
      "metadata": {
        "colab": {
          "base_uri": "https://localhost:8080/",
          "height": 282
        },
        "id": "FldRXmbh-oZX",
        "outputId": "219ea266-6a9c-4d46-8452-5c0eb21053d6"
      },
      "execution_count": 5,
      "outputs": [
        {
          "output_type": "execute_result",
          "data": {
            "text/plain": [
              "<matplotlib.collections.PathCollection at 0x7fb72b15b3d0>"
            ]
          },
          "metadata": {},
          "execution_count": 5
        },
        {
          "output_type": "display_data",
          "data": {
            "text/plain": [
              "<Figure size 432x288 with 1 Axes>"
            ],
            "image/png": "[encoded data removed]"
          },
          "metadata": {
            "needs_background": "light"
          }
        }
      ]
    },
    {
      "cell_type": "markdown",
      "source": [
        "### The 3 sets...\n",
        "\n",
        "* **Training set** - the model learns from this data, which is tipically 70-80% of the total data you have available.\n",
        "* **Validation set** - the model gets tuned on this data, which is tipically 10-15% of the data available.\n",
        "* **Test set** - the model gets evaluated on this data to test what it has learned, this set is typically 10-15% of the total data available."
      ],
      "metadata": {
        "id": "eizjuT-c-z56"
      }
    },
    {
      "cell_type": "code",
      "source": [
        "# Check the length of how many samples we have\n",
        "len(X)"
      ],
      "metadata": {
        "colab": {
          "base_uri": "https://localhost:8080/"
        },
        "id": "JXe_Yam7BWnD",
        "outputId": "8c791f06-feef-4f5f-ce9a-92aa03ae3b55"
      },
      "execution_count": null,
      "outputs": [
        {
          "output_type": "execute_result",
          "data": {
            "text/plain": [
              "50"
            ]
          },
          "metadata": {},
          "execution_count": 56
        }
      ]
    },
    {
      "cell_type": "code",
      "source": [
        "# Split the data into train and test sets\n",
        "X_train = X[:40] # first 40 are training samples (80% of the data)\n",
        "Y_train = Y[:40]\n",
        "X_test = X[40:] # last 10 are testing samples (20% of the data)\n",
        "Y_test = Y[40:]\n",
        "\n",
        "len(X_train), len(X_test), len(Y_train), len(Y_test)"
      ],
      "metadata": {
        "colab": {
          "base_uri": "https://localhost:8080/"
        },
        "id": "LQfQaj9cBkx6",
        "outputId": "4ec05b17-b603-44fc-d1ec-99cb2e3659ae"
      },
      "execution_count": 5,
      "outputs": [
        {
          "output_type": "execute_result",
          "data": {
            "text/plain": [
              "(40, 10, 40, 10)"
            ]
          },
          "metadata": {},
          "execution_count": 5
        }
      ]
    },
    {
      "cell_type": "markdown",
      "source": [
        "### Visualizing the data\n",
        "\n",
        "Now we've got our data in training and test sets... let's visualize it again!"
      ],
      "metadata": {
        "id": "tx1wjMnPCR9h"
      }
    },
    {
      "cell_type": "code",
      "source": [
        "plt.figure(figsize=(10,7))\n",
        "# Plot training data in blue\n",
        "plt.scatter(X_train, Y_train, c=\"b\", label=\"training data\")\n",
        "# Plot test data in green\n",
        "plt.scatter(X_test, Y_test, c=\"g\", label=\"testing data\")\n",
        "# Show legend\n",
        "plt.legend();"
      ],
      "metadata": {
        "colab": {
          "base_uri": "https://localhost:8080/",
          "height": 428
        },
        "id": "FGipCW9RCqm4",
        "outputId": "8a357fa0-4fd3-40bd-8bb8-c44fad24c682"
      },
      "execution_count": null,
      "outputs": [
        {
          "output_type": "display_data",
          "data": {
            "text/plain": [
              "<Figure size 720x504 with 1 Axes>"
            ],
            "image/png": "[encoded data removed]"
          },
          "metadata": {
            "needs_background": "light"
          }
        }
      ]
    },
    {
      "cell_type": "code",
      "source": [
        "# Let's have a look at how to build a neural network for our data\n",
        "\n",
        "# 1. Create a model\n",
        "model = tf.keras.Sequential([\n",
        "  tf.keras.layers.Dense(1)          \n",
        "])\n",
        "\n",
        "# 2. Compile the model\n",
        "model.compile(loss=tf.keras.losses.mae,\n",
        "              optimizer=tf.keras.optimizers.SGD(),\n",
        "              metrics=[\"mae\"])\n",
        "\n",
        "# 3. Fit the model\n",
        "# model.fit(X_train, Y_train, epochs=100)"
      ],
      "metadata": {
        "id": "QwUKLxDRCBgo"
      },
      "execution_count": 8,
      "outputs": []
    },
    {
      "cell_type": "markdown",
      "source": [
        "### Visualizing the model"
      ],
      "metadata": {
        "id": "U9rtXT7gDFHL"
      }
    },
    {
      "cell_type": "code",
      "source": [
        "model.summary()"
      ],
      "metadata": {
        "colab": {
          "base_uri": "https://localhost:8080/",
          "height": 287
        },
        "id": "6NYGUd8EDLaF",
        "outputId": "c835773d-50f9-49d3-80af-0e6941f6ef3a"
      },
      "execution_count": 9,
      "outputs": [
        {
          "output_type": "error",
          "ename": "ValueError",
          "evalue": "ignored",
          "traceback": [
            "\u001b[0;31m---------------------------------------------------------------------------\u001b[0m",
            "\u001b[0;31mValueError\u001b[0m                                Traceback (most recent call last)",
            "\u001b[0;32m<ipython-input-9-5f15418b3570>\u001b[0m in \u001b[0;36m<module>\u001b[0;34m()\u001b[0m\n\u001b[0;32m----> 1\u001b[0;31m \u001b[0mmodel\u001b[0m\u001b[0;34m.\u001b[0m\u001b[0msummary\u001b[0m\u001b[0;34m(\u001b[0m\u001b[0;34m)\u001b[0m\u001b[0;34m\u001b[0m\u001b[0;34m\u001b[0m\u001b[0m\n\u001b[0m",
            "\u001b[0;32m/usr/local/lib/python3.7/dist-packages/keras/engine/training.py\u001b[0m in \u001b[0;36msummary\u001b[0;34m(self, line_length, positions, print_fn, expand_nested, show_trainable)\u001b[0m\n\u001b[1;32m   2774\u001b[0m     \u001b[0;32mif\u001b[0m \u001b[0;32mnot\u001b[0m \u001b[0mself\u001b[0m\u001b[0;34m.\u001b[0m\u001b[0mbuilt\u001b[0m\u001b[0;34m:\u001b[0m\u001b[0;34m\u001b[0m\u001b[0;34m\u001b[0m\u001b[0m\n\u001b[1;32m   2775\u001b[0m       raise ValueError(\n\u001b[0;32m-> 2776\u001b[0;31m           \u001b[0;34m'This model has not yet been built. '\u001b[0m\u001b[0;34m\u001b[0m\u001b[0;34m\u001b[0m\u001b[0m\n\u001b[0m\u001b[1;32m   2777\u001b[0m           \u001b[0;34m'Build the model first by calling `build()` or by calling '\u001b[0m\u001b[0;34m\u001b[0m\u001b[0;34m\u001b[0m\u001b[0m\n\u001b[1;32m   2778\u001b[0m           'the model on a batch of data.')\n",
            "\u001b[0;31mValueError\u001b[0m: This model has not yet been built. Build the model first by calling `build()` or by calling the model on a batch of data."
          ]
        }
      ]
    },
    {
      "cell_type": "code",
      "source": [
        "# Let's create a model which builds automatically by defining the input_shape argument\n",
        "tf.random.set_seed(42)\n",
        "\n",
        "# 1. Create a model (same as above)\n",
        "model = tf.keras.Sequential([\n",
        "  tf.keras.layers.Dense(1, input_shape=[1])\n",
        "])\n",
        "\n",
        "# 2. Compile the model\n",
        "model.compile(loss = tf.keras.losses.mae,\n",
        "              optimizer=tf.keras.optimizers.SGD(),\n",
        "              metrics=[\"mae\"])"
      ],
      "metadata": {
        "id": "5EKRXDe8DUXg"
      },
      "execution_count": 6,
      "outputs": []
    },
    {
      "cell_type": "code",
      "source": [
        "model.summary()"
      ],
      "metadata": {
        "colab": {
          "base_uri": "https://localhost:8080/"
        },
        "id": "3PvwRZZaENrc",
        "outputId": "4465fd22-5f27-481b-a56b-945b0cad3f72"
      },
      "execution_count": 11,
      "outputs": [
        {
          "output_type": "stream",
          "name": "stdout",
          "text": [
            "Model: \"sequential_2\"\n",
            "_________________________________________________________________\n",
            " Layer (type)                Output Shape              Param #   \n",
            "=================================================================\n",
            " dense_2 (Dense)             (None, 1)                 2         \n",
            "                                                                 \n",
            "=================================================================\n",
            "Total params: 2\n",
            "Trainable params: 2\n",
            "Non-trainable params: 0\n",
            "_________________________________________________________________\n"
          ]
        }
      ]
    },
    {
      "cell_type": "markdown",
      "source": [
        "* Total params - total number of parameters in the model.\n",
        "* Trainable parameters - these are the parameters (patterns) the model can update as it trains.\n",
        "* Non-trainable params - these parameters aren't updated during training (this is typical when you brin in already learned patterns or parameters from other models during **transfer learning**)."
      ],
      "metadata": {
        "id": "ac6NoHLIEqM1"
      }
    },
    {
      "cell_type": "code",
      "source": [
        "# Let's fit our model to the training data\n",
        "model.fit(X_train, Y_train, epochs=100, verbose=0)"
      ],
      "metadata": {
        "colab": {
          "base_uri": "https://localhost:8080/"
        },
        "id": "30vhHJrTVmtQ",
        "outputId": "c8af808a-a67d-45a5-ce11-c898bde90f68"
      },
      "execution_count": 9,
      "outputs": [
        {
          "output_type": "execute_result",
          "data": {
            "text/plain": [
              "<keras.callbacks.History at 0x7f62616bb250>"
            ]
          },
          "metadata": {},
          "execution_count": 9
        }
      ]
    }
  ]
}